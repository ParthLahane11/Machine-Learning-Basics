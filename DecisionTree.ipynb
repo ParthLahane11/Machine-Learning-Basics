{
  "nbformat": 4,
  "nbformat_minor": 0,
  "metadata": {
    "colab": {
      "provenance": []
    },
    "kernelspec": {
      "name": "python3",
      "display_name": "Python 3"
    },
    "language_info": {
      "name": "python"
    }
  },
  "cells": [
    {
      "cell_type": "code",
      "execution_count": null,
      "metadata": {
        "id": "V0YrzDBYKUeG",
        "colab": {
          "base_uri": "https://localhost:8080/",
          "height": 352
        },
        "outputId": "61f4267c-e146-42a4-c3dd-8c329922c128"
      },
      "outputs": [
        {
          "output_type": "stream",
          "name": "stdout",
          "text": [
            "[X2 < 76.113]\n",
            " [0.0]\n",
            " [1.0]\n",
            "at depth 6  it starts to overfit\n",
            "accuracy = 80\n"
          ]
        },
        {
          "output_type": "display_data",
          "data": {
            "text/plain": [
              "<Figure size 432x288 with 1 Axes>"
            ],
            "image/png": "[encoded data removed]"
          },
          "metadata": {
            "needs_background": "light"
          }
        }
      ],
      "source": [
        "#reference: https://machinelearningmastery.com/implement-decision-tree-algorithm-scratch-python/\n",
        "import math\n",
        "import pandas as pd\n",
        "import numpy as np\n",
        "import matplotlib.pyplot as plt\n",
        "from random import random\n",
        "from random import randrange\n",
        "from scipy import stats\n",
        "from math import log2\n",
        "\n",
        "def splitData(index, value, data):\n",
        "\tleft_tree, right_tree = list(), list()\n",
        "\tfor row in data:\n",
        "\t\tif row[index] < value:\n",
        "\t\t\tleft_tree.append(row)\n",
        "\t\telse:\n",
        "\t\t\tright_tree.append(row)\n",
        "\treturn left_tree, right_tree\n",
        "\n",
        "def informationGain(splits, features):\n",
        "\tn_instances = float(sum([len(split) for split in splits]))\n",
        "\tgain = 0.0\n",
        "\tfor split in splits:\n",
        "\t\tsize = float(len(split))\n",
        "\t\tif size == 0:\n",
        "\t\t\tcontinue\n",
        "\t\tscore = 0.0\n",
        "\t\tfor feature in features:\n",
        "\t\t\tprob = [row[-1] for row in split].count(feature) / size\n",
        "\t\t\tif prob > 0:\n",
        "\t\t\t\tscore += prob * log2(prob)\n",
        "\t\t\telse:\n",
        "\t\t\t\tscore += 0\n",
        "\n",
        "\t\tgain += (-score) * (size / n_instances)\n",
        "\treturn gain\n",
        "\n",
        "def fetchSplit(data):\n",
        "\tclass_values = list(set(row[-1] for row in data))\n",
        "\tb_index = float('inf') \n",
        "\tb_value = float('inf')\n",
        "\tb_score = float('inf')\n",
        "\tb_groups = None\n",
        "\tfor index in range(len(data[0])-1):\n",
        "\t\tfor row in data:\n",
        "\t\t\tgroups = splitData(index, row[index], data)\n",
        "\t\t\tgain = informationGain(groups, class_values)\n",
        "\t\t\tif gain < b_score:\n",
        "\t\t\t\tb_index = index \n",
        "\t\t\t\tb_value = row[index]\n",
        "\t\t\t\tb_score = gain\n",
        "\t\t\t\tb_groups = groups\n",
        "\treturn {'index':b_index, 'value':b_value, 'groups':b_groups}\n",
        "\n",
        "def endNode(group):\n",
        "\toutcomes = [row[-1] for row in group]\n",
        "\treturn max(set(outcomes), key=outcomes.count)\n",
        "\n",
        "def treeSplit(node, max_depth, min_size, depth):\n",
        "\tleft, right = node['groups']\n",
        "\tdel(node['groups'])\n",
        "\n",
        "\tif not left or not right:\n",
        "\t\tnode['left'] = node['right'] = endNode(left + right)\n",
        "\t\treturn\n",
        "\n",
        "\tif depth >= max_depth:\n",
        "\t\tnode['left'], node['right'] = endNode(left), endNode(right)\n",
        "\t\treturn\n",
        "\n",
        "\tif len(left) <= min_size:\n",
        "\t\tnode['left'] = endNode(left)\n",
        "\telse:\n",
        "\t\tnode['left'] = fetchSplit(left)\n",
        "\t\ttreeSplit(node['left'], max_depth, min_size, depth+1)\n",
        "\n",
        "\tif len(right) <= min_size:\n",
        "\t\tnode['right'] = endNode(right)\n",
        "\telse:\n",
        "\t\tnode['right'] = fetchSplit(right)\n",
        "\t\ttreeSplit(node['right'], max_depth, min_size, depth+1)\n",
        "\n",
        "def buildTree(train, max_depth, min_size):\n",
        "\troot = fetchSplit(train)\n",
        "\ttreeSplit(root, max_depth, min_size, 1)\n",
        "\treturn root\n",
        "\n",
        "def printTree(node, tree_depth=0):\n",
        "\tif isinstance(node, dict):\n",
        "\t\tprint('%s[X%d < %.3f]' % ((tree_depth*' ', (node['index']+1), node['value'])))\n",
        "\t\tprintTree(node['left'], tree_depth+1)\n",
        "\t\tprintTree(node['right'], tree_depth+1)\n",
        "\telse:\n",
        "\t\tprint('%s[%s]' % ((tree_depth*' ', node)))\n",
        "\n",
        "def extractCsv(file, train = 1):\n",
        "\tif file:\n",
        "\t\tdataset = pd.read_csv(file)\n",
        "\t\tif train:\n",
        "\t\t\tdataset['Gender'] = dataset['Gender'].apply(lambda x: 1 if x == 'M' else 0)\n",
        "\t\tdataset = dataset.to_numpy()\n",
        "\treturn dataset\n",
        "\n",
        "def predict(node, record):\n",
        "\tif record[node['index']] < node['value']:\n",
        "\t\tif isinstance(node['left'], dict):\n",
        "\t\t\treturn predict(node['left'], record)\n",
        "\t\telse:\n",
        "\t\t\treturn node['left']\n",
        "\telse:\n",
        "\t\tif isinstance(node['right'], dict):\n",
        "\t\t\treturn predict(node['right'], record)\n",
        "\t\telse:\n",
        "\t\t\treturn node['right']\n",
        "\n",
        "def selectOption(option):\n",
        "\tif option == 'leaveoneout':\n",
        "\t\tdatasetLeaveOneOut = extractCsv('leaveoneout.csv')\n",
        "\t\tdatasetTrain = datasetLeaveOneOut[:90]\n",
        "\t\tdatasetTest = datasetLeaveOneOut[90:]\n",
        "\telse:\n",
        "\t\tdatasetTrain = extractCsv('Train.csv', 1)\n",
        "\t\tdatasetTest = extractCsv('Test.csv', 0)\n",
        "\treturn datasetTrain, datasetTest\n",
        "\n",
        "def makePredictions(test, sampletree, option = True):\n",
        "\tcount = 0\n",
        "\tpredictions = list()\n",
        "\tfor row in test:\n",
        "\t\tprediction = predict(sampletree, row)\n",
        "\t\tpredictions.append(prediction)\n",
        "\t\tif prediction == row[-1]:\n",
        "\t\t\tcount += 1\n",
        "\tif option:\n",
        "\t\treturn count\n",
        "\treturn predictions\n",
        "\n",
        "def accuracy(predictions, size):\n",
        "\tprint('accuracy = %d' % ((predictions/len(size))*100))\n",
        "\n",
        "option = 'leaveoneout'\n",
        "#option = 'trainAssignment1'\n",
        "train, test = selectOption(option)\n",
        "bestTree = 0\n",
        "worseTree = float('inf')\n",
        "bestdepth = 0\n",
        "worstdepth = 0\n",
        "prediction_count_list = list()\n",
        "for i in range(1, 8):\n",
        "\ttree = buildTree(train, i, 1)\n",
        "\tgoodPredictions = makePredictions(test, tree)\n",
        "\tprediction_count_list.append(goodPredictions)\n",
        "\tif(goodPredictions > bestTree):\n",
        "\t\tbestTree = goodPredictions\n",
        "\t\tbestdepth = i\n",
        "\tif(goodPredictions < worseTree):\n",
        "\t\tworseTree = goodPredictions\n",
        "\t\tworstdepth = i\n",
        "\n",
        "tree = buildTree(train, bestdepth, 1)\n",
        "printTree(tree)\n",
        "goodPredictions = makePredictions(test, tree)\n",
        "plt.plot( list(range(1,8)), prediction_count_list, label='training')\n",
        "print(\"at depth %d  it starts to overfit\" % (worstdepth))\n",
        "accuracy(goodPredictions, test)"
      ]
    },
    {
      "cell_type": "code",
      "source": [
        "def subsample(dataset, w, option = 'bagging'):\n",
        "  if option == 'bagging':\n",
        "    indexes = np.random.randint(0, high=(len(dataset)), size=len(dataset), dtype=int)\n",
        "    sample = dataset[indexes, :]\n",
        "  else:\n",
        "    indexes = np.random.choice(np.arange(len(dataset)), size=len(dataset), p=w)\n",
        "    sample = dataset[indexes, :]\n",
        "  return sample\n",
        " \n",
        "def mode(numbers):\n",
        "  return stats.mode(numbers)\n",
        "\n",
        "classifiersCount = 10\n",
        "decisiontreePreds = list()\n",
        "w = np.ones(len(train))/len(train)\n",
        "for i in range(classifiersCount):\n",
        "  sample = subsample(train, w, 'bagging')\n",
        "  sampletree = buildTree(sample, bestdepth, 1)\n",
        "  preds = makePredictions(test, sampletree, False)\n",
        "  decisiontreePreds.append(preds)\n",
        "modeResult = mode(decisiontreePreds)\n",
        "count = 0\n",
        "for i in range(len(test)):\n",
        "  if test[i][-1] == modeResult[0][0][i]:\n",
        "    count += 1\n",
        "accuracy(count, test)"
      ],
      "metadata": {
        "colab": {
          "base_uri": "https://localhost:8080/"
        },
        "id": "RZk4ux-AEhhB",
        "outputId": "f8e5a55d-ecbc-4156-a7cb-96071b2a7e9f"
      },
      "execution_count": null,
      "outputs": [
        {
          "output_type": "stream",
          "name": "stdout",
          "text": [
            "accuracy = 86\n"
          ]
        }
      ]
    },
    {
      "cell_type": "code",
      "source": [
        "classifiersCount = 10\n",
        "decisiontreePreds = list()\n",
        "say = np.ones(classifiersCount)\n",
        "w = np.ones(len(train))/len(train)\n",
        "treeList = []\n",
        "for i in range(classifiersCount):\n",
        "  sample = subsample(train, w, 'boosting')\n",
        "  sampletree = buildTree(sample, bestdepth, 1)\n",
        "  treeList.append(sampletree)\n",
        "  preds = makePredictions(train, sampletree, False)  \n",
        "  predList = [-1 if i == 0 else i for i in preds]\n",
        "  e = np.sum(predList != train[-1]) / len(train[-1])\n",
        "  e = np.clip(e, 1e-10, 1-1e-10)\n",
        "  say[i] = 0.5 * np.log((1-e)/e)\n",
        "  testResults = [i[-1] for i in train]\n",
        "  testResults = np.array(testResults)\n",
        "  predList = np.array(predList)\n",
        "  w *= np.exp(-say[i] * testResults * predList)\n",
        "  w /= sum(w)\n",
        "predictions = list()\n",
        "count = 0\n",
        "for i in range(len(treeList)):\n",
        "  preds = makePredictions(test, treeList[i], False)\n",
        "  predictions.append(preds)\n",
        "modeResult = mode(predictions)\n",
        "for i in range(len(test)):\n",
        "  if test[i][-1] == modeResult[0][0][i]:\n",
        "    count += 1\n",
        "accuracy(count, test)"
      ],
      "metadata": {
        "colab": {
          "base_uri": "https://localhost:8080/"
        },
        "id": "VTriJCYH0L3y",
        "outputId": "9399d40d-6dd9-454d-8445-d227a204f479"
      },
      "execution_count": null,
      "outputs": [
        {
          "output_type": "stream",
          "name": "stdout",
          "text": [
            "accuracy = 73\n"
          ]
        },
        {
          "output_type": "stream",
          "name": "stderr",
          "text": [
            "/usr/local/lib/python3.7/dist-packages/ipykernel_launcher.py:12: DeprecationWarning: elementwise comparison failed; this will raise an error in the future.\n",
            "  if sys.path[0] == '':\n"
          ]
        }
      ]
    }
  ]
}
{
  "nbformat": 4,
  "nbformat_minor": 0,
  "metadata": {
    "colab": {
      "provenance": []
    },
    "kernelspec": {
      "name": "python3",
      "display_name": "Python 3"
    },
    "language_info": {
      "name": "python"
    }
  },
  "cells": [
    {
      "cell_type": "code",
      "execution_count": null,
      "metadata": {
        "id": "39yLb1CQxLdD",
        "colab": {
          "base_uri": "https://localhost:8080/",
          "height": 346
        },
        "outputId": "9936663f-9172-4754-89cb-bd3fca5651a9"
      },
      "outputs": [
        {
          "output_type": "error",
          "ename": "IndexError",
          "evalue": "ignored",
          "traceback": [
            "\u001b[0;31m---------------------------------------------------------------------------\u001b[0m",
            "\u001b[0;31mIndexError\u001b[0m                                Traceback (most recent call last)",
            "\u001b[0;32m<ipython-input-54-7d4814934426>\u001b[0m in \u001b[0;36m<module>\u001b[0;34m()\u001b[0m\n\u001b[1;32m     85\u001b[0m     \u001b[0mprint\u001b[0m\u001b[0;34m(\u001b[0m\u001b[0mprobabilities\u001b[0m\u001b[0;34m)\u001b[0m\u001b[0;34m\u001b[0m\u001b[0;34m\u001b[0m\u001b[0m\n\u001b[1;32m     86\u001b[0m \u001b[0;34m\u001b[0m\u001b[0m\n\u001b[0;32m---> 87\u001b[0;31m \u001b[0mmain\u001b[0m\u001b[0;34m(\u001b[0m\u001b[0;34m)\u001b[0m\u001b[0;34m\u001b[0m\u001b[0;34m\u001b[0m\u001b[0m\n\u001b[0m",
            "\u001b[0;32m<ipython-input-54-7d4814934426>\u001b[0m in \u001b[0;36mmain\u001b[0;34m()\u001b[0m\n\u001b[1;32m     82\u001b[0m   \u001b[0msummaries\u001b[0m \u001b[0;34m=\u001b[0m \u001b[0msummarize_by_label\u001b[0m\u001b[0;34m(\u001b[0m\u001b[0mtrain\u001b[0m\u001b[0;34m)\u001b[0m\u001b[0;34m\u001b[0m\u001b[0;34m\u001b[0m\u001b[0m\n\u001b[1;32m     83\u001b[0m   \u001b[0;32mfor\u001b[0m \u001b[0mitem\u001b[0m \u001b[0;32min\u001b[0m \u001b[0mtest\u001b[0m\u001b[0;34m:\u001b[0m\u001b[0;34m\u001b[0m\u001b[0;34m\u001b[0m\u001b[0m\n\u001b[0;32m---> 84\u001b[0;31m     \u001b[0mprobabilities\u001b[0m \u001b[0;34m=\u001b[0m \u001b[0mcalc_label_probabilities\u001b[0m\u001b[0;34m(\u001b[0m\u001b[0msummaries\u001b[0m\u001b[0;34m,\u001b[0m \u001b[0mitem\u001b[0m\u001b[0;34m)\u001b[0m\u001b[0;34m\u001b[0m\u001b[0;34m\u001b[0m\u001b[0m\n\u001b[0m\u001b[1;32m     85\u001b[0m     \u001b[0mprint\u001b[0m\u001b[0;34m(\u001b[0m\u001b[0mprobabilities\u001b[0m\u001b[0;34m)\u001b[0m\u001b[0;34m\u001b[0m\u001b[0;34m\u001b[0m\u001b[0m\n\u001b[1;32m     86\u001b[0m \u001b[0;34m\u001b[0m\u001b[0m\n",
            "\u001b[0;32m<ipython-input-54-7d4814934426>\u001b[0m in \u001b[0;36mcalc_label_probabilities\u001b[0;34m(summaries, row)\u001b[0m\n\u001b[1;32m     49\u001b[0m \u001b[0;34m\u001b[0m\u001b[0m\n\u001b[1;32m     50\u001b[0m \u001b[0;32mdef\u001b[0m \u001b[0mcalc_label_probabilities\u001b[0m\u001b[0;34m(\u001b[0m\u001b[0msummaries\u001b[0m\u001b[0;34m,\u001b[0m \u001b[0mrow\u001b[0m\u001b[0;34m)\u001b[0m\u001b[0;34m:\u001b[0m\u001b[0;34m\u001b[0m\u001b[0;34m\u001b[0m\u001b[0m\n\u001b[0;32m---> 51\u001b[0;31m   \u001b[0mtotal_rows\u001b[0m \u001b[0;34m=\u001b[0m \u001b[0msum\u001b[0m\u001b[0;34m(\u001b[0m\u001b[0;34m[\u001b[0m\u001b[0msummaries\u001b[0m\u001b[0;34m[\u001b[0m\u001b[0mlabel\u001b[0m\u001b[0;34m]\u001b[0m\u001b[0;34m[\u001b[0m\u001b[0;36m0\u001b[0m\u001b[0;34m]\u001b[0m\u001b[0;34m[\u001b[0m\u001b[0;36m2\u001b[0m\u001b[0;34m]\u001b[0m \u001b[0;32mfor\u001b[0m \u001b[0mlabel\u001b[0m \u001b[0;32min\u001b[0m \u001b[0msummaries\u001b[0m\u001b[0;34m]\u001b[0m\u001b[0;34m)\u001b[0m\u001b[0;34m\u001b[0m\u001b[0;34m\u001b[0m\u001b[0m\n\u001b[0m\u001b[1;32m     52\u001b[0m   \u001b[0mprobabilities\u001b[0m \u001b[0;34m=\u001b[0m \u001b[0mdict\u001b[0m\u001b[0;34m(\u001b[0m\u001b[0;34m)\u001b[0m\u001b[0;34m\u001b[0m\u001b[0;34m\u001b[0m\u001b[0m\n\u001b[1;32m     53\u001b[0m   \u001b[0;32mfor\u001b[0m \u001b[0mclass_value\u001b[0m\u001b[0;34m,\u001b[0m \u001b[0mclass_summaries\u001b[0m \u001b[0;32min\u001b[0m \u001b[0msummaries\u001b[0m\u001b[0;34m.\u001b[0m\u001b[0mitems\u001b[0m\u001b[0;34m(\u001b[0m\u001b[0;34m)\u001b[0m\u001b[0;34m:\u001b[0m\u001b[0;34m\u001b[0m\u001b[0;34m\u001b[0m\u001b[0m\n",
            "\u001b[0;32m<ipython-input-54-7d4814934426>\u001b[0m in \u001b[0;36m<listcomp>\u001b[0;34m(.0)\u001b[0m\n\u001b[1;32m     49\u001b[0m \u001b[0;34m\u001b[0m\u001b[0m\n\u001b[1;32m     50\u001b[0m \u001b[0;32mdef\u001b[0m \u001b[0mcalc_label_probabilities\u001b[0m\u001b[0;34m(\u001b[0m\u001b[0msummaries\u001b[0m\u001b[0;34m,\u001b[0m \u001b[0mrow\u001b[0m\u001b[0;34m)\u001b[0m\u001b[0;34m:\u001b[0m\u001b[0;34m\u001b[0m\u001b[0;34m\u001b[0m\u001b[0m\n\u001b[0;32m---> 51\u001b[0;31m   \u001b[0mtotal_rows\u001b[0m \u001b[0;34m=\u001b[0m \u001b[0msum\u001b[0m\u001b[0;34m(\u001b[0m\u001b[0;34m[\u001b[0m\u001b[0msummaries\u001b[0m\u001b[0;34m[\u001b[0m\u001b[0mlabel\u001b[0m\u001b[0;34m]\u001b[0m\u001b[0;34m[\u001b[0m\u001b[0;36m0\u001b[0m\u001b[0;34m]\u001b[0m\u001b[0;34m[\u001b[0m\u001b[0;36m2\u001b[0m\u001b[0;34m]\u001b[0m \u001b[0;32mfor\u001b[0m \u001b[0mlabel\u001b[0m \u001b[0;32min\u001b[0m \u001b[0msummaries\u001b[0m\u001b[0;34m]\u001b[0m\u001b[0;34m)\u001b[0m\u001b[0;34m\u001b[0m\u001b[0;34m\u001b[0m\u001b[0m\n\u001b[0m\u001b[1;32m     52\u001b[0m   \u001b[0mprobabilities\u001b[0m \u001b[0;34m=\u001b[0m \u001b[0mdict\u001b[0m\u001b[0;34m(\u001b[0m\u001b[0;34m)\u001b[0m\u001b[0;34m\u001b[0m\u001b[0;34m\u001b[0m\u001b[0m\n\u001b[1;32m     53\u001b[0m   \u001b[0;32mfor\u001b[0m \u001b[0mclass_value\u001b[0m\u001b[0;34m,\u001b[0m \u001b[0mclass_summaries\u001b[0m \u001b[0;32min\u001b[0m \u001b[0msummaries\u001b[0m\u001b[0;34m.\u001b[0m\u001b[0mitems\u001b[0m\u001b[0;34m(\u001b[0m\u001b[0;34m)\u001b[0m\u001b[0;34m:\u001b[0m\u001b[0;34m\u001b[0m\u001b[0;34m\u001b[0m\u001b[0m\n",
            "\u001b[0;31mIndexError\u001b[0m: tuple index out of range"
          ]
        }
      ],
      "source": [
        "import csv\n",
        "import math\n",
        "import numpy as np\n",
        "\n",
        "#https://hackr.io/blog/top-steps-to-learn-naive-bayes-algorithm\n",
        "\n",
        "def separate_by_label(dataset):\n",
        "  separated = dict()\n",
        "  float_vector =  []\n",
        "  for i in range(len(dataset)):\n",
        "    vector = dataset[i]\n",
        "    class_value = vector[-1]\n",
        "    del(dataset[i][-1])\n",
        "    for items in vector:\n",
        "      items = float(items)\n",
        "      float_vector.append(items)\n",
        "    if (class_value not in separated):\n",
        "      separated[class_value] = list()\n",
        "    separated[class_value].append(float_vector)\n",
        "  return separated\n",
        "\n",
        "def mean(number):\n",
        "  return sum(number) / float(len(number))\n",
        "\n",
        "def variance(number):\n",
        " avg = mean(number)\n",
        " variance = sum([pow(x - avg, 2) for x in number]) / float(len(number) - 1)\n",
        " return math.sqrt(variance)\n",
        "\n",
        "\n",
        "def summarize_data(number):\n",
        "  summaries = [(mean(attribute), variance(attribute)) for attribute in zip(*number)]\n",
        "  del summaries[-1]\n",
        "\n",
        "  return summaries\n",
        "\n",
        "def summarize_by_label(data):\n",
        "  separated = separate_by_label(data)\n",
        "  summaries = dict()\n",
        "  for class_value, rows in separated.items():\n",
        "    summaries[class_value] = summarize_data(rows)\n",
        "  return summaries\n",
        "\n",
        "\n",
        "def calc_probability(x, mean, standard_deviation):\n",
        "\n",
        " exponent = math.exp(-((x - mean)**2 / (2 * (standard_deviation**2))))\n",
        " return (1 / (math.sqrt(2 * math.pi) * standard_deviation)) * exponent\n",
        "\n",
        "def calc_label_probabilities(summaries, row):\n",
        "  total_rows = sum([summaries[label][0][2] for label in summaries])\n",
        "  probabilities = dict()\n",
        "  for class_value, class_summaries in summaries.items():\n",
        "    probabilities[class_value] = summaries[class_value][0][2]/float(total_rows)\n",
        "    for i in range(len(class_summaries)):\n",
        "      mean, stdev, _ = class_summaries[i]\n",
        "      probabilities[class_value] *= calc_probability(row[i], mean, stdev)\n",
        "  return probabilities\n",
        "\n",
        "def readCsv(trainFile, testFile):\n",
        "  train = []\n",
        "  test = []\n",
        "\n",
        "  with open(trainFile, 'r') as csvfile:\n",
        "    csvreader = csv.reader(csvfile)\n",
        "\n",
        "    for row in csvreader:\n",
        "        train.append(row)\n",
        "\n",
        "  with open(testFile, 'r') as csvfile:\n",
        "    csvreader = csv.reader(csvfile)\n",
        "\n",
        "    for row in csvreader:\n",
        "        test.append(row)\n",
        "  return train, test\n",
        "\n",
        "def main():\n",
        "  trainFile = \"Train.csv\"\n",
        "  testFile = \"Test.csv\"\n",
        "\n",
        "  train, test = readCsv(trainFile, testFile)\n",
        "  summaries = summarize_by_label(train)\n",
        "  for item in test:\n",
        "    probabilities = calc_label_probabilities(summaries, item)\n",
        "    print(probabilities)\n",
        "\n",
        "main()\n"
      ]
    }
  ]
}
{
  "cells": [
    {
      "cell_type": "code",
      "source": [
        "# hypothesis - theta0 + theta1*x + theta2*sin(8*x) + theta3*cos(8*x) + theta4*sin(16*x) + theta5*cos(16*x)+ theta6*sin(24*x) + theta7*cos(24*x)+ theta8*sin(32*x) + theta9*cos(32*x)+ theta10*sin(40*x) + theta11*cos(40*x)+ theta12*sin(48*x) + theta13*cos(48*x)"
      ],
      "metadata": {
        "id": "38sBhBiwgCxN"
      },
      "execution_count": null,
      "outputs": []
    },
    {
      "cell_type": "code",
      "execution_count": null,
      "metadata": {
        "id": "mZ5xkdO4X-zC"
      },
      "outputs": [],
      "source": [
        "import numpy as np\n",
        "import matplotlib.pyplot as plt \n",
        "import pandas as pd"
      ]
    },
    {
      "cell_type": "code",
      "execution_count": null,
      "metadata": {
        "id": "ckXP8BvsX-zF"
      },
      "outputs": [],
      "source": [
        "df = pd.read_csv('Project1Train.csv')\n",
        "\n",
        "x = df[['x']]\n",
        "xTuple = tuple(df[['x']].to_numpy())\n",
        "y = df[['y']]\n",
        "k = 8\n",
        "depth = 0\n",
        "option20 = True\n",
        "if option20 == True:\n",
        "  x = df[['x']][:20]\n",
        "  xTuple = tuple(df[['x']].to_numpy())[:20]\n",
        "  y = df[['y']][:20]"
      ]
    },
    {
      "cell_type": "code",
      "execution_count": null,
      "metadata": {
        "id": "rI9ZojkTX-zF"
      },
      "outputs": [],
      "source": [
        "def optimize(hypothesis, y, a, epochs, parameters):\n",
        "    size = hypothesis.shape[0]\n",
        "    hypothesis = hypothesis.to_numpy()\n",
        "    weight = parameters[\"weight\"] \n",
        "    y = y.to_numpy()\n",
        "    y = y.reshape(size, 1)\n",
        "    \n",
        "    for i in range(epochs): \n",
        "      sigma = np.dot(hypothesis, weight)\n",
        "      dW = 1/size*(np.dot(hypothesis.T, sigma - y))\n",
        "      weight =  np.subtract(weight, a * dW)\n",
        "\n",
        "    parameters[\"weight\"] = weight\n",
        "    return parameters, sigma"
      ]
    },
    {
      "cell_type": "code",
      "execution_count": null,
      "metadata": {
        "id": "whyWUYs7X-zH"
      },
      "outputs": [],
      "source": [
        "def train(hypothesis, y, learning_rate, epochs):\n",
        "  po, yhat = optimize(hypothesis, y, learning_rate, epochs , init_parameters)\n",
        "  return po, yhat"
      ]
    },
    {
      "cell_type": "code",
      "source": [
        "def designEquation(dataset,  k, depth = 6, option = 'hypothesis'):\n",
        "  dataset.insert(0, '1', 1)\n",
        "  for i in range(depth):\n",
        "    if option == 'hypothesis':\n",
        "      dataset['sin' + str((i+1)*k) + 'x'] = np.sin(dataset['x'].multiply((i+1)*k))\n",
        "      dataset['cos' + str((i+1)*k) + 'x'] = np.cos(dataset['x'].multiply((i+1)*k))\n",
        "  \n",
        "  return dataset"
      ],
      "metadata": {
        "id": "t9_JZBebwxNF"
      },
      "execution_count": null,
      "outputs": []
    },
    {
      "cell_type": "code",
      "source": [
        "hypothesis = designEquation(x, k, depth, option  = 'hypothesis')"
      ],
      "metadata": {
        "id": "9rjZCsjTuM-P"
      },
      "execution_count": null,
      "outputs": []
    },
    {
      "cell_type": "code",
      "source": [
        "init_parameters = {} \n",
        "init_parameters[\"weight\"] = np.zeros((x.shape[1], 1), dtype=int)"
      ],
      "metadata": {
        "id": "iVt7hwv56Hgn"
      },
      "execution_count": null,
      "outputs": []
    },
    {
      "cell_type": "code",
      "execution_count": null,
      "metadata": {
        "id": "tNwsYWSWX-zH"
      },
      "outputs": [],
      "source": [
        "po, yhat = train(hypothesis, y, learning_rate = 0.02, epochs = 200)"
      ]
    },
    {
      "cell_type": "code",
      "execution_count": null,
      "metadata": {
        "id": "o_SShHJuX-zI"
      },
      "outputs": [],
      "source": [
        "output = np.dot(x[:], po[\"weight\"])\n"
      ]
    },
    {
      "cell_type": "code",
      "execution_count": null,
      "metadata": {
        "id": "4VEXQKrpX-zJ",
        "colab": {
          "base_uri": "https://localhost:8080/",
          "height": 298
        },
        "outputId": "25abd595-12cd-44a0-975b-43145800d634"
      },
      "outputs": [
        {
          "output_type": "stream",
          "name": "stdout",
          "text": [
            "-11.816062824458257\n"
          ]
        },
        {
          "output_type": "display_data",
          "data": {
            "text/plain": [
              "<Figure size 432x288 with 1 Axes>"
            ],
            "image/png": "[encoded data removed]"
          },
          "metadata": {
            "needs_background": "light"
          }
        }
      ],
      "source": [
        "rf = pd.read_csv('Project1Test.csv')\n",
        "z = rf[['x']]\n",
        "zTuple = tuple(rf[['x']].to_numpy())\n",
        "newHypothesis = designEquation(z, k, depth, option  = 'hypothesis')\n",
        "y_test = rf[['y']].to_numpy()\n",
        "output2 = np.dot(newHypothesis, po[\"weight\"])\n",
        "\n",
        "fig = plt.figure()\n",
        "plt.title(\"Depth \" + str(depth))\n",
        "plt.scatter(zTuple, y_test)\n",
        "plt.scatter(zTuple, output2)\n",
        "print(np.sum(y_test-output2))"
      ]
    }
  ],
  "metadata": {
    "interpreter": {
      "hash": "2be5faf79681da6f2a61fdfdd5405d65d042280f7fba6178067603e3a2925119"
    },
    "kernelspec": {
      "display_name": "Python 3.10.2 64-bit",
      "language": "python",
      "name": "python3"
    },
    "language_info": {
      "codemirror_mode": {
        "name": "ipython",
        "version": 3
      },
      "file_extension": ".py",
      "mimetype": "text/x-python",
      "name": "python",
      "nbconvert_exporter": "python",
      "pygments_lexer": "ipython3",
      "version": "3.10.2"
    },
    "orig_nbformat": 4,
    "colab": {
      "provenance": []
    }
  },
  "nbformat": 4,
  "nbformat_minor": 0
}
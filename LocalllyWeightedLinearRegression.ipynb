{
  "cells": [
    {
      "cell_type": "code",
      "execution_count": null,
      "metadata": {
        "id": "zWlePU3lMGhZ"
      },
      "outputs": [],
      "source": [
        "import numpy as np\n",
        "import matplotlib.pyplot as plt \n",
        "import pandas as pd"
      ]
    },
    {
      "cell_type": "code",
      "execution_count": null,
      "metadata": {
        "id": "nvQ2f5m0MGhe"
      },
      "outputs": [],
      "source": [
        "df = pd.read_csv('Project1Train.csv')\n",
        "X = df[['x']].to_numpy()\n",
        "y = df[['y']].to_numpy()"
      ]
    },
    {
      "cell_type": "code",
      "execution_count": null,
      "metadata": {
        "id": "hUGdMuSUMGhe"
      },
      "outputs": [],
      "source": [
        "dfTest = pd.read_csv('Project1Test.csv')\n",
        "X_test = dfTest[['x']].to_numpy()\n",
        "y_test = dfTest[['y']].to_numpy()"
      ]
    },
    {
      "cell_type": "code",
      "execution_count": null,
      "metadata": {
        "id": "09CiJ4SVMGhf"
      },
      "outputs": [],
      "source": [
        "def wm(point, X, tau):     \n",
        "  m = X.shape[0]\n",
        "  w = np.mat(np.eye(m)) \n",
        "  for i in range(m): \n",
        "    xi = X[i] \n",
        "    d = (-2 * tau * tau) \n",
        "    w[i, i] = np.exp(np.dot((xi-point), (xi-point).T)/d)     \n",
        "  return w"
      ]
    },
    {
      "cell_type": "code",
      "execution_count": null,
      "metadata": {
        "id": "n7UAn6vaMGhg"
      },
      "outputs": [],
      "source": [
        "def predict(X, y, point, tau):     \n",
        "  m = X.shape[0]  \n",
        "  X_ = np.append(X, np.ones(m).reshape(m,1), axis=1)\n",
        "  point_ = np.array([point, 1], dtype=object)\n",
        "  w = wm(point_, X_, tau)\n",
        "  theta = np.linalg.pinv(X_.T*(w * X_))*(X_.T*(w * y))\n",
        "  pred = np.dot(point_, theta)\n",
        "  return theta, pred"
      ]
    },
    {
      "cell_type": "code",
      "execution_count": null,
      "metadata": {
        "id": "aXGAZDtnMGhg"
      },
      "outputs": [],
      "source": [
        "def plot_predictions(X, y, tau, X_test, y_test, option20): \n",
        "  preds = []\n",
        "  if option20 == True:\n",
        "    X = X[:20]\n",
        "    y = y[:20]\n",
        "  for point in X_test: \n",
        "    theta, pred = predict(X, y, point, tau) \n",
        "    preds.append(pred)\n",
        "  X_test = np.array(X_test).reshape(len(X_test), 1)\n",
        "  preds = np.array(preds).reshape(len(preds), 1)\n",
        "  plt.plot(X_test, y_test, 'b.')\n",
        "  plt.plot(X_test, preds, 'r.')\n",
        "  plt.legend(['real', 'predictions'])\n",
        "  plt.show()\n",
        "  print(np.sum(y_test-preds))"
      ]
    },
    {
      "cell_type": "code",
      "execution_count": null,
      "metadata": {
        "id": "Eq_RmaT8MGhh",
        "outputId": "2fffdd83-c086-4480-cc83-6eed9fc7d651",
        "colab": {
          "base_uri": "https://localhost:8080/",
          "height": 282
        }
      },
      "outputs": [
        {
          "output_type": "display_data",
          "data": {
            "text/plain": [
              "<Figure size 432x288 with 1 Axes>"
            ],
            "image/png": "[encoded data removed]"
          },
          "metadata": {
            "needs_background": "light"
          }
        },
        {
          "output_type": "stream",
          "name": "stdout",
          "text": [
            "[3.79491471]\n"
          ]
        }
      ],
      "source": [
        "plot_predictions(X, y, 0.214, X_test, y_test, option20 = False)"
      ]
    }
  ],
  "metadata": {
    "interpreter": {
      "hash": "2be5faf79681da6f2a61fdfdd5405d65d042280f7fba6178067603e3a2925119"
    },
    "kernelspec": {
      "display_name": "Python 3.10.2 64-bit",
      "language": "python",
      "name": "python3"
    },
    "language_info": {
      "codemirror_mode": {
        "name": "ipython",
        "version": 3
      },
      "file_extension": ".py",
      "mimetype": "text/x-python",
      "name": "python",
      "nbconvert_exporter": "python",
      "pygments_lexer": "ipython3",
      "version": "3.10.2"
    },
    "orig_nbformat": 4,
    "colab": {
      "provenance": []
    }
  },
  "nbformat": 4,
  "nbformat_minor": 0
}
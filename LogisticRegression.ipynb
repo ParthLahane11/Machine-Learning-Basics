{
  "cells": [
    {
      "cell_type": "code",
      "execution_count": null,
      "metadata": {
        "id": "-m8_-N0XXISO"
      },
      "outputs": [],
      "source": [
        "import numpy as np\n",
        "import pandas as pd\n",
        "import csv"
      ]
    },
    {
      "cell_type": "code",
      "execution_count": null,
      "metadata": {
        "id": "S9jOFvlKXMiL"
      },
      "outputs": [],
      "source": [
        "df = pd.read_csv('3a_dataset.csv')\n",
        "df.head()\n",
        "AgeOut = False"
      ]
    },
    {
      "cell_type": "code",
      "execution_count": null,
      "metadata": {
        "id": "_ivv_xj_aOdY"
      },
      "outputs": [],
      "source": [
        "if AgeOut == False:\n",
        "  x = df[['Height','Weight','Age']]\n",
        "else:\n",
        "  x = df[['Height','Weight']]\n",
        "y = df['Gender']"
      ]
    },
    {
      "cell_type": "code",
      "execution_count": null,
      "metadata": {
        "id": "nhGy7Lj1flqe"
      },
      "outputs": [],
      "source": [
        "y = y.replace(to_replace =\"M\",\n",
        "                 value =1, regex=True)\n",
        "y = y.replace(to_replace =\"W\",\n",
        "                 value =0, regex=True)"
      ]
    },
    {
      "cell_type": "code",
      "source": [
        "#Normalise data\n",
        "# x=(x-x.mean())/x.std()\n",
        "# x.head()"
      ],
      "metadata": {
        "id": "9PzxvA1H7g1h"
      },
      "execution_count": null,
      "outputs": []
    },
    {
      "cell_type": "code",
      "execution_count": null,
      "metadata": {
        "id": "WUAMm-xfacaf"
      },
      "outputs": [],
      "source": [
        "def sigmoid(input):\n",
        "    output = 1.0/(1.0 + np.exp(-input))\n",
        "    return output"
      ]
    },
    {
      "cell_type": "code",
      "execution_count": null,
      "metadata": {
        "id": "hulR6rCnfFWK"
      },
      "outputs": [],
      "source": [
        "def gradientDescent(x, y,a,it,parameters):\n",
        "    size = x.shape[0]\n",
        "    weight = parameters[\"weight\"]\n",
        "    bias = parameters[\"bias\"]\n",
        "    for i in range(it): \n",
        "        sigma = sigmoid(np.dot(x, weight) + bias)\n",
        "        loss = -1/size * np.sum(y * np.log(sigma)) + (1 - y) * np.log(1-sigma)\n",
        "        dW = 1/size * np.dot(x.T, (sigma - y))\n",
        "        db = 1/size * np.sum(sigma - y)\n",
        "        weight = np.subtract(weight, a * dW)\n",
        "        bias = np.subtract(bias, a * db)\n",
        "\n",
        "    parameters[\"weight\"] = weight\n",
        "    parameters[\"bias\"] = bias\n",
        "    return parameters"
      ]
    },
    {
      "cell_type": "code",
      "execution_count": null,
      "metadata": {
        "id": "5kvtG-2TgIGC"
      },
      "outputs": [],
      "source": [
        "init_parameters = {} \n",
        "init_parameters[\"weight\"] = np.zeros(x.shape[1], dtype=int)\n",
        "init_parameters[\"bias\"] = 0"
      ]
    },
    {
      "cell_type": "code",
      "execution_count": null,
      "metadata": {
        "id": "LY9rCwg9ge0x"
      },
      "outputs": [],
      "source": [
        "def train(x, y, a,it):\n",
        "    po = gradientDescent(x, y, a, it ,init_parameters)\n",
        "    return po"
      ]
    },
    {
      "cell_type": "code",
      "execution_count": null,
      "metadata": {
        "id": "kNjJMmeUgjNc",
        "colab": {
          "base_uri": "https://localhost:8080/"
        },
        "outputId": "7527f6df-61c9-43d1-fe31-cdbb88beb240"
      },
      "outputs": [
        {
          "output_type": "stream",
          "name": "stderr",
          "text": [
            "/usr/local/lib/python3.7/dist-packages/ipykernel_launcher.py:7: RuntimeWarning: divide by zero encountered in log\n",
            "  import sys\n"
          ]
        }
      ],
      "source": [
        "po = train(x, y, a = 0.02, it = 500)"
      ]
    },
    {
      "cell_type": "code",
      "execution_count": null,
      "metadata": {
        "id": "EcIY6bgrgqeS"
      },
      "outputs": [],
      "source": [
        "output = np.dot(x[:], po[\"weight\"]) + po[\"bias\"]\n",
        "predictions = sigmoid(output) >= 1/2"
      ]
    },
    {
      "cell_type": "code",
      "execution_count": null,
      "metadata": {
        "id": "idNq3TnwAER_"
      },
      "outputs": [],
      "source": [
        "rf = pd.read_csv('2a_input.csv')\n",
        "z = rf[['Height','Weight','Age']]\n",
        "\n",
        "output2 = np.dot(z, po[\"weight\"]) + po[\"bias\"]\n",
        "\n",
        "predictions2 = sigmoid(output2) >= 1/2"
      ]
    },
    {
      "cell_type": "code",
      "source": [
        "a = 0.02\n",
        "it = 500\n",
        "count = 0\n",
        "AgeOut = False\n",
        "for i in range(len(x)):\n",
        "  leaveoneout = pd.read_csv('3a_dataset.csv')\n",
        "  removed = leaveoneout.iloc[i, :]\n",
        "  leaveoneout = leaveoneout.drop(i)\n",
        "  if AgeOut == False:\n",
        "    x = leaveoneout[['Height','Weight','Age']]\n",
        "    removedTrain = removed[['Height','Weight','Age']]\n",
        "  else:\n",
        "    x = leaveoneout[['Height','Weight']]\n",
        "    removedTrain = removed[['Height','Weight']]\n",
        "  y = leaveoneout['Gender']\n",
        "  po = gradientDescent(x, y, a, it ,init_parameters)\n",
        "  removedLabel = removed['Gender']\n",
        "  output2 = np.dot(removedTrain, po[\"weight\"]) + po[\"bias\"]\n",
        "  prediction = sigmoid(output2) >= 1/2\n",
        "  if prediction == removedLabel:\n",
        "    count += 1\n",
        "print((count/len(x))*100)"
      ],
      "metadata": {
        "colab": {
          "base_uri": "https://localhost:8080/"
        },
        "id": "l1RQimvMknxE",
        "outputId": "3991ac4e-3d4f-480f-bacb-df2a5f1d65d7"
      },
      "execution_count": null,
      "outputs": [
        {
          "output_type": "stream",
          "name": "stderr",
          "text": [
            "/usr/local/lib/python3.7/dist-packages/ipykernel_launcher.py:7: RuntimeWarning: divide by zero encountered in log\n",
            "  import sys\n"
          ]
        },
        {
          "output_type": "stream",
          "name": "stdout",
          "text": [
            "60.50420168067227\n"
          ]
        }
      ]
    },
    {
      "cell_type": "markdown",
      "metadata": {
        "id": "AEJEYKC4WBXB"
      },
      "source": []
    }
  ],
  "metadata": {
    "colab": {
      "provenance": []
    },
    "kernelspec": {
      "display_name": "Python 3",
      "name": "python3"
    },
    "language_info": {
      "codemirror_mode": {
        "name": "ipython",
        "version": 3
      },
      "file_extension": ".py",
      "mimetype": "text/x-python",
      "name": "python",
      "nbconvert_exporter": "python",
      "pygments_lexer": "ipython3",
      "version": "3.10.2"
    }
  },
  "nbformat": 4,
  "nbformat_minor": 0
}
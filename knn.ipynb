{
  "nbformat": 4,
  "nbformat_minor": 0,
  "metadata": {
    "colab": {
      "provenance": []
    },
    "kernelspec": {
      "name": "python3",
      "display_name": "Python 3"
    },
    "language_info": {
      "name": "python"
    }
  },
  "cells": [
    {
      "cell_type": "code",
      "execution_count": null,
      "metadata": {
        "id": "vZ5h5T1oMnIn"
      },
      "outputs": [],
      "source": [
        "import math \n",
        "def findDistance(pointA, pointB):\n",
        "  eucledian = 0\n",
        "  for i in range(0, len(pointA)):\n",
        "    eucledian += math.sqrt((pointA[i]-pointB[i])**2)\n",
        "  return eucledian\n",
        "\n",
        "def computeNeighbours(distances, k):\n",
        "  countMale = 0 \n",
        "  for i in range(0, k):\n",
        "    if distances[-1] == 'M':\n",
        "      countMale += 1\n",
        "  if countMale >=  k//2:\n",
        "    return 'M'\n",
        "  return 'F'\n",
        "\n",
        "def knn(initialList, points, k):\n",
        "  distance = []\n",
        "  for point in points:\n",
        "    for x in initialList:\n",
        "      dist = findDistance(point, x)\n",
        "      distance.append(dist)\n",
        "  sortedDistance = sorted(distance)\n",
        "return computeNeighbours(sortedDistance, k)\n",
        "\n",
        "initialList = (( 1.9806410331042, 79.009141722173, 25), M )\n",
        "(( 1.7625650225587, 72.635674293145, 34), W )\n",
        "(( 1.8194156478879, 71.61017259719, 22), M )\n",
        "(( 1.6560028637191, 63.63152656173, 29), M )\n",
        "(( 1.9288063090958, 78.133746314602, 27), M )\n",
        "(( 1.9350698615244, 65.621385842152, 27), W )\n",
        "(( 1.5598173129086, 63.617120793114, 28), W )\n",
        "(( 1.3692405779341, 63.386483710659, 29), W )\n",
        "(( 1.7621028049785, 75.119897009054, 24), M )\n",
        "(( 1.7255845749984, 68.280890758332, 28), W )\n",
        "(( 1.5655610015418, 62.681888054406, 25), W )\n",
        "(( 1.5913818527982, 63.352635441549, 32), W )\n",
        "(( 1.8861200882513, 82.910479190036, 33), M )\n",
        "(( 1.8475781671216, 79.790736398028, 24), M )\n",
        "\n",
        "points =  ( 2, 78.052524608611, 30)\n",
        "( 1.425403932572, 57.017428169404, 24)\n",
        "( 1.6716037197143, 71.347343717537, 27)\n",
        "( 1.7232470656056, 65.83682631564, 27)"
      ]
    }
  ]
}